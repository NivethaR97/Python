{
 "cells": [
  {
   "cell_type": "code",
   "execution_count": 6,
   "id": "b5487d5e-f60e-45f0-b455-86123f107b7c",
   "metadata": {},
   "outputs": [
    {
     "name": "stdin",
     "output_type": "stream",
     "text": [
      "value: 10\n"
     ]
    },
    {
     "name": "stdout",
     "output_type": "stream",
     "text": [
      "Correct\n"
     ]
    }
   ],
   "source": [
    "i=int(input(\"value:\"))\n",
    "if(i==10):\n",
    "      print(\"Correct\")"
   ]
  },
  {
   "cell_type": "code",
   "execution_count": 56,
   "id": "6201fc88-caca-4357-8cc0-0467f8afba5e",
   "metadata": {},
   "outputs": [
    {
     "name": "stdin",
     "output_type": "stream",
     "text": [
      "Enter the password: HOPE@123\n"
     ]
    },
    {
     "name": "stdout",
     "output_type": "stream",
     "text": [
      "Your password is correct\n"
     ]
    }
   ],
   "source": [
    "password=\"HOPE@123\"\n",
    "pwd=input(\"Enter the password:\")\n",
    "if(password==pwd):\n",
    "  print(\"Your password is correct\")\n",
    "else:\n",
    "  print(\"Your password is incorrect\")"
   ]
  },
  {
   "cell_type": "code",
   "execution_count": 28,
   "id": "39306504-7f8d-4ad3-a8ad-58fb97d15ed0",
   "metadata": {},
   "outputs": [
    {
     "name": "stdin",
     "output_type": "stream",
     "text": [
      "age: 20\n"
     ]
    },
    {
     "name": "stdout",
     "output_type": "stream",
     "text": [
      "Adult\n"
     ]
    }
   ],
   "source": [
    "age=int(input(\"age:\"))\n",
    "if(age<18):\n",
    "    print(\"Children\")\n",
    "elif(age<40):\n",
    "    print(\"Adult\")\n",
    "elif(age<60):\n",
    "    print(\"Citizen\")\n",
    "elif(age>60):\n",
    "    print(\"Senior Citizen\")"
   ]
  },
  {
   "cell_type": "code",
   "execution_count": 54,
   "id": "30a6b2f0-58bd-4026-aba6-cbf8d0797419",
   "metadata": {},
   "outputs": [
    {
     "name": "stdin",
     "output_type": "stream",
     "text": [
      "Enter any number: 1\n"
     ]
    },
    {
     "name": "stdout",
     "output_type": "stream",
     "text": [
      "No is positive\n"
     ]
    }
   ],
   "source": [
    "number=int(input(\"Enter any number:\"))\n",
    "if(number>0):\n",
    "    print(\"No is positive\")\n",
    "else:\n",
    "     print(\"No is negative\")      "
   ]
  },
  {
   "cell_type": "code",
   "execution_count": 44,
   "id": "27976a40-38e1-4d3e-9bc1-a1012c61b0bc",
   "metadata": {},
   "outputs": [
    {
     "name": "stdin",
     "output_type": "stream",
     "text": [
      "Enter a number to check: 22\n"
     ]
    },
    {
     "name": "stdout",
     "output_type": "stream",
     "text": [
      "No is not divisible by 5\n"
     ]
    }
   ],
   "source": [
    "number=int(input(\"Enter a number to check:\"))\n",
    "if(number % 5==0):\n",
    "    print(\"No is divisible by 5\")\n",
    "else:\n",
    "    print(\"No is not divisible by 5\")"
   ]
  }
 ],
 "metadata": {
  "kernelspec": {
   "display_name": "Python [conda env:base] *",
   "language": "python",
   "name": "conda-base-py"
  },
  "language_info": {
   "codemirror_mode": {
    "name": "ipython",
    "version": 3
   },
   "file_extension": ".py",
   "mimetype": "text/x-python",
   "name": "python",
   "nbconvert_exporter": "python",
   "pygments_lexer": "ipython3",
   "version": "3.12.9"
  }
 },
 "nbformat": 4,
 "nbformat_minor": 5
}
